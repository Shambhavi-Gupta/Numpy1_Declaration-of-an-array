{
  "nbformat": 4,
  "nbformat_minor": 0,
  "metadata": {
    "colab": {
      "name": "numpy1.ipynb",
      "provenance": [],
      "authorship_tag": "ABX9TyP4n1c6Tsr8iENbeV5TvMfX",
      "include_colab_link": true
    },
    "kernelspec": {
      "name": "python3",
      "display_name": "Python 3"
    },
    "language_info": {
      "name": "python"
    }
  },
  "cells": [
    {
      "cell_type": "markdown",
      "metadata": {
        "id": "view-in-github",
        "colab_type": "text"
      },
      "source": [
        "<a href=\"https://colab.research.google.com/github/Shambhavi-Gupta/Numpy1_Declaration-of-an-array/blob/main/numpy1.ipynb\" target=\"_parent\"><img src=\"https://colab.research.google.com/assets/colab-badge.svg\" alt=\"Open In Colab\"/></a>"
      ]
    },
    {
      "cell_type": "code",
      "metadata": {
        "id": "OchSQy26TqXG"
      },
      "source": [
        "import numpy as np\n",
        "#help(np.array)\n",
        "# b = np.array([1,2,3,4])\n",
        "# print(b)\n",
        "# b = np.array([[1,2],[3,4]])\n",
        "# print(b)\n",
        "# c = np.array([1,2,3],\"complex\")\n",
        "# print(c)\n",
        "# d = np.array((1,2,3))\n",
        "# print(d)\n"
      ],
      "execution_count": null,
      "outputs": []
    }
  ]
}